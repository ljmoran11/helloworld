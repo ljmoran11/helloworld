{
 "cells": [
  {
   "cell_type": "code",
   "execution_count": null,
   "id": "d1982fc9-f513-430f-91c1-1230995a9b26",
   "metadata": {},
   "outputs": [],
   "source": [
    "input(name)\n",
    "name_length = len(name)\n",
    "num =input(num)\n",
    "total = num + name_length"
   ]
  }
 ],
 "metadata": {
  "kernelspec": {
   "display_name": "Python 3 (ipykernel)",
   "language": "python",
   "name": "python3"
  },
  "language_info": {
   "codemirror_mode": {
    "name": "ipython",
    "version": 3
   },
   "file_extension": ".py",
   "mimetype": "text/x-python",
   "name": "python",
   "nbconvert_exporter": "python",
   "pygments_lexer": "ipython3",
   "version": "3.12.4"
  }
 },
 "nbformat": 4,
 "nbformat_minor": 5
}
